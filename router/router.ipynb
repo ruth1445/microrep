{
 "cells": [
  {
   "cell_type": "code",
   "execution_count": null,
   "id": "cad7e68d-6469-418f-913b-d2b766f6f9bb",
   "metadata": {},
   "outputs": [],
   "source": []
  }
 ],
 "metadata": {
  "kernelspec": {
   "display_name": "",
   "name": ""
  },
  "language_info": {
   "name": ""
  }
 },
 "nbformat": 4,
 "nbformat_minor": 5
}
